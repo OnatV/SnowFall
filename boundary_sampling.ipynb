{
 "cells": [
  {
   "cell_type": "code",
   "execution_count": 2,
   "metadata": {},
   "outputs": [
    {
     "name": "stdout",
     "output_type": "stream",
     "text": [
      "[Taichi] version 1.6.0, llvm 15.0.1, commit f1c6fbbd, win, python 3.10.9\n",
      "[Taichi] Starting on arch=x64\n"
     ]
    }
   ],
   "source": [
    "import numpy as np\n",
    "import trimesh\n",
    "import matplotlib.pyplot as plt\n",
    "import taichi as ti\n",
    "from trimesh.transformations import rotation_matrix\n",
    "from mesh_to_sdf import mesh_to_voxels\n",
    "from scipy.interpolate import RegularGridInterpolator\n",
    "from time import time_ns\n",
    "from numpy.linalg import norm\n",
    "from fluid_grid import FluidGrid\n",
    "from pathlib import Path\n",
    "ti.init(arch=ti.cpu, debug=True) # cpu, to avoid insane copying\n"
   ]
  },
  {
   "cell_type": "markdown",
   "metadata": {},
   "source": [
    "#### Sampling the boundary of a triangle mesh with the method of (Bell, 2005)\n",
    "See section 3.3.1 in that paper\n",
    "Basic idea:\n",
    "* get an SDF (signed distance function) approximation of the mesh\n",
    "* put particles randomly on the mesh surface according to the area of each triangle\n",
    "* adjust particle positions on the mesh to obtain a nice & even spread of particles\n",
    "* this is with a simulation approach where velocities are calulated per particles\n"
   ]
  },
  {
   "cell_type": "code",
   "execution_count": 3,
   "metadata": {},
   "outputs": [
    {
     "data": {
      "text/plain": [
       "b'glTF\\x02\\x00\\x00\\x00T\\x05\\x00\\x00\\x88\\x03\\x00\\x00JSON{\"scene\":0,\"scenes\":[{\"nodes\":[0]}],\"asset\":{\"version\":\"2.0\",\"generator\":\"https://github.com/mikedh/trimesh\"},\"accessors\":[{\"componentType\":5125,\"type\":\"SCALAR\",\"bufferView\":0,\"count\":36,\"max\":[23],\"min\":[0]},{\"componentType\":5126,\"type\":\"VEC3\",\"byteOffset\":0,\"bufferView\":1,\"count\":24,\"max\":[0.7071067690849304,0.5,0.7071067690849304],\"min\":[-0.7071067690849304,-0.5,-0.7071067690849304]}],\"meshes\":[{\"name\":\"Mesh\",\"extras\":{\"units\":\"meters\",\"from_gltf_primitive\":false,\"name\":\"Mesh\",\"node\":\"1\"},\"primitives\":[{\"attributes\":{\"POSITION\":1},\"indices\":0,\"mode\":4}]}],\"materials\":[{\"pbrMetallicRoughness\":{\"baseColorFactor\":[0.8,0.0,0.0,1.0],\"metallicFactor\":0.0},\"name\":\"Red\",\"doubleSided\":false}],\"nodes\":[{\"name\":\"world\",\"children\":[1]},{\"name\":\"Mesh\",\"mesh\":0}],\"buffers\":[{\"byteLength\":432}],\"bufferViews\":[{\"buffer\":0,\"byteOffset\":0,\"byteLength\":144},{\"buffer\":0,\"byteOffset\":144,\"byteLength\":288}]}  \\xb0\\x01\\x00\\x00BIN\\x00\\x00\\x00\\x00\\x00\\x01\\x00\\x00\\x00\\x02\\x00\\x00\\x00\\x03\\x00\\x00\\x00\\x02\\x00\\x00\\x00\\x01\\x00\\x00\\x00\\x04\\x00\\x00\\x00\\x05\\x00\\x00\\x00\\x06\\x00\\x00\\x00\\x07\\x00\\x00\\x00\\x06\\x00\\x00\\x00\\x05\\x00\\x00\\x00\\x08\\x00\\x00\\x00\\t\\x00\\x00\\x00\\n\\x00\\x00\\x00\\x0b\\x00\\x00\\x00\\n\\x00\\x00\\x00\\t\\x00\\x00\\x00\\x0c\\x00\\x00\\x00\\r\\x00\\x00\\x00\\x0e\\x00\\x00\\x00\\x0f\\x00\\x00\\x00\\x0e\\x00\\x00\\x00\\r\\x00\\x00\\x00\\x10\\x00\\x00\\x00\\x11\\x00\\x00\\x00\\x12\\x00\\x00\\x00\\x13\\x00\\x00\\x00\\x12\\x00\\x00\\x00\\x11\\x00\\x00\\x00\\x14\\x00\\x00\\x00\\x15\\x00\\x00\\x00\\x16\\x00\\x00\\x00\\x17\\x00\\x00\\x00\\x16\\x00\\x00\\x00\\x15\\x00\\x00\\x00\\x00\\x00\\x00\\x00\\x00\\x00\\x00?\\xf3\\x045?\\xf3\\x045?\\x00\\x00\\x00?\\x00\\x00\\x00\\x00\\xf3\\x045\\xbf\\x00\\x00\\x00?\\x00\\x00\\x00\\x00\\x00\\x00\\x00\\x00\\x00\\x00\\x00?\\xf3\\x045\\xbf\\xf3\\x045?\\x00\\x00\\x00?\\x00\\x00\\x00\\x00\\x00\\x00\\x00\\x00\\x00\\x00\\x00?\\xf3\\x045?\\xf3\\x045?\\x00\\x00\\x00\\xbf\\x00\\x00\\x00\\x00\\x00\\x00\\x00\\x00\\x00\\x00\\x00\\xbf\\xf3\\x045?\\x00\\x00\\x00\\x00\\x00\\x00\\x00?\\xf3\\x045\\xbf\\xf3\\x045?\\x00\\x00\\x00?\\x00\\x00\\x00\\x00\\x00\\x00\\x00\\x00\\x00\\x00\\x00\\xbf\\xf3\\x045\\xbf\\xf3\\x045?\\x00\\x00\\x00\\xbf\\x00\\x00\\x00\\x00\\xf3\\x045\\xbf\\x00\\x00\\x00?\\x00\\x00\\x00\\x00\\x00\\x00\\x00\\x00\\x00\\x00\\x00?\\xf3\\x045\\xbf\\xf3\\x045\\xbf\\x00\\x00\\x00\\xbf\\x00\\x00\\x00\\x00\\x00\\x00\\x00\\x00\\x00\\x00\\x00\\xbf\\xf3\\x045\\xbf\\x00\\x00\\x00\\x00\\x00\\x00\\x00?\\xf3\\x045?\\xf3\\x045\\xbf\\x00\\x00\\x00?\\x00\\x00\\x00\\x00\\x00\\x00\\x00\\x00\\x00\\x00\\x00\\xbf\\xf3\\x045?\\xf3\\x045\\xbf\\x00\\x00\\x00\\xbf\\x00\\x00\\x00\\x00\\x00\\x00\\x00\\x00\\x00\\x00\\x00\\xbf\\xf3\\x045?\\xf3\\x045\\xbf\\x00\\x00\\x00\\xbf\\x00\\x00\\x00\\x00\\xf3\\x045?\\x00\\x00\\x00\\xbf\\x00\\x00\\x00\\x00\\x00\\x00\\x00\\x00\\x00\\x00\\x00\\xbf\\xf3\\x045\\xbf'"
      ]
     },
     "execution_count": 3,
     "metadata": {},
     "output_type": "execute_result"
    }
   ],
   "source": [
    "#Note: the \"Box.glb\" file is from \\\n",
    "#https://github.com/KhronosGroup/glTF-Sample-Models/blob/master/2.0/Box/glTF-Binary/Box.glb\n",
    "# Due to problems with the sdf library, I rotated the Box first.\n",
    "scene = trimesh.load(\"boundary/Box.glb\")\n",
    "box = scene.dump()[0]\n",
    "rotm = rotation_matrix(np.pi / 4, (0, 1, 0), box.centroid)\n",
    "box.apply_transform(rotm)\n",
    "box.export(\"boundary/Box_rot.glb\")"
   ]
  },
  {
   "cell_type": "code",
   "execution_count": 4,
   "metadata": {},
   "outputs": [],
   "source": [
    "# calculate SDF grid\n",
    "mesh_path = Path(\"boundary/Box_rot.glb\")\n",
    "precomp_path = mesh_path.with_name(\"precomp_\" + mesh_path.name).with_suffix(\".npy\")\n",
    "\n",
    "mesh = trimesh.load(mesh_path)\n",
    "if not precomp_path.exists():\n",
    "    voxels, gradients = mesh_to_voxels(mesh, 32, pad=False, return_gradients=True)\n",
    "    with open(precomp_path, \"wb\") as wf:\n",
    "        np.save(wf, voxels)\n",
    "        np.save(wf, gradients)\n",
    "# load\n",
    "with open(precomp_path, \"rb\") as rf:\n",
    "    voxels = np.load(rf)\n",
    "    gradients = np.load(rf)"
   ]
  },
  {
   "cell_type": "code",
   "execution_count": 5,
   "metadata": {},
   "outputs": [],
   "source": [
    "if type(mesh) is trimesh.Scene: \n",
    "    mesh = mesh.dump()[0]\n",
    "mesh.apply_translation(- mesh.bounding_box.centroid)\n",
    "verts = mesh.vertices \n",
    "faces = mesh.faces"
   ]
  },
  {
   "cell_type": "code",
   "execution_count": 6,
   "metadata": {},
   "outputs": [],
   "source": [
    "# set up SDF interpolation\n",
    "# Note: the SDF calculation algo is different from the one described in the paper\n",
    "# probably does not matter. what does is that the mesh is scaled into a -1.0 to 1.0 cube\n",
    "# hence the output grid needs be inversely scaled \n",
    "voxel_scale =  np.max(mesh.bounding_box.extents) / 2\n",
    "x = np.linspace(-1.0, 1.0, 32) * voxel_scale\n",
    "y = np.linspace(-1.0, 1.0, 32) * voxel_scale\n",
    "z = np.linspace(-1.0, 1.0, 32) * voxel_scale\n",
    "inter_voxels = RegularGridInterpolator((x, y, z), voxels, bounds_error=False, fill_value=None )\n",
    "inter_grad   = RegularGridInterpolator((x, y, z), gradients, bounds_error=False, fill_value=None )"
   ]
  },
  {
   "cell_type": "markdown",
   "metadata": {},
   "source": [
    "#### Simulation part\n",
    "\n",
    "For each particle, the velocity is given by v_r + v_f\n",
    "v_r is the inter-particle force. \\\n",
    "v_r = neigh_sum[ kernel(p_i - p_j) * (p_i - p_j).normalized() ] \\\n",
    "v_f keeps particles to the mesh surface using the SDF data. \\\n",
    "v_f = -sdf(p_i) * sdf_normal(p_i)"
   ]
  },
  {
   "cell_type": "code",
   "execution_count": 7,
   "metadata": {},
   "outputs": [
    {
     "name": "stdout",
     "output_type": "stream",
     "text": [
      "Creating a grid with dimension 33, 33, 33\n",
      "grid size: 35937\n",
      "num faces: 12\n",
      " 11\n",
      "num particles 1548\n"
     ]
    }
   ],
   "source": [
    "# next, set up a simulation a required\n",
    "\n",
    "particle_radius = 0.04\n",
    "max_particles_per_face = 1024\n",
    "\n",
    "@ti.func\n",
    "def cubic_kernel(r_norm, h):\n",
    "    # implementation details borrowed from SPH_Taichi\n",
    "    # use ps.smoothing_radius to calculate the kernel weight of particles\n",
    "    # for now, sum over nearby particles\n",
    "    w = ti.cast(0.0, ti.f32)\n",
    "    k = 8 / np.pi\n",
    "    k /= ti.pow(h, 3)\n",
    "    q = r_norm / h\n",
    "    if q <= 1.0:\n",
    "        if q <= 0.5:\n",
    "            q2 = ti.pow(q, 2)\n",
    "            q3 = ti.pow(q, 3)\n",
    "            w = k * (6.0 * q3 - 6.0 * q2 + 1)\n",
    "        else:\n",
    "            w = k * 2 * ti.pow(1 - q, 3.0)\n",
    "    return w\n",
    "\n",
    "# a class to hold all the sim data\n",
    "@ti.data_oriented\n",
    "class Data:\n",
    "    def __init__(self, mesh_vertices, mesh_faces) -> None:\n",
    "        numFaces = mesh_faces.shape[0]\n",
    "        self.time_step = 0.015\n",
    "        self.h = particle_radius * 4.0\n",
    "        self.origin = ti.Vector([-3.0]*3)\n",
    "        self.grid_end = ti.Vector([3.0]*3)\n",
    "        self.grid_spacing = self.h * 1.2\n",
    "        self.fg = FluidGrid(self.origin, self.grid_end, self.grid_spacing)\n",
    "        print(\"grid size:\", self.fg.num_cells)\n",
    "        print(\"num faces:\", numFaces)\n",
    "        self.particle_nums = np.empty(dtype=int, shape=numFaces)\n",
    "        tmp_pos = np.empty(shape=numFaces, dtype=object)\n",
    "        particle_sum = 0\n",
    "        # here we init particles per face\n",
    "        for tri_idx in range(numFaces):\n",
    "            print(\"\\r\", tri_idx, end=\"\")\n",
    "            face = mesh_faces[tri_idx]\n",
    "            x0 = mesh_vertices[face[0]]\n",
    "            x1 = mesh_vertices[face[1]]\n",
    "            x2 = mesh_vertices[face[2]]\n",
    "            e1 = x1 - x0\n",
    "            e2 = x2 - x0\n",
    "\n",
    "            # calculate D*A / (pi*r^2)\n",
    "            sample_density = 1.3\n",
    "            area = norm(np.cross(e1, e2)) / 2.0\n",
    "            numParticles = int(sample_density * area / (np.pi * particle_radius**2))\n",
    "            numParticles = min(numParticles, max_particles_per_face)\n",
    "            \n",
    "            pos = np.empty(shape=(numParticles, 3))\n",
    "\n",
    "            rand = np.random.uniform(size= 2 * numParticles).reshape((numParticles, 2))\n",
    "            tri_normal = np.cross(e1, e2)\n",
    "            for i in range(numParticles):\n",
    "                scale = np.random.random()*0.2\n",
    "                x = e1 * rand[i][0] + (1-rand[i][0])*rand[i][1]*e2\n",
    "                pos[i] = ti.Vector(x+x0+tri_normal*scale)\n",
    "            self.particle_nums[tri_idx] = numParticles\n",
    "            particle_sum += numParticles\n",
    "            tmp_pos[tri_idx] = pos\n",
    "        print()\n",
    "        print(\"num particles\", particle_sum)\n",
    "        self.pos = ti.Vector.field(n=3, dtype=float, shape=particle_sum)\n",
    "        self.vel = ti.Vector.field(n=3, dtype=float, shape=particle_sum)\n",
    "        # write all the positions into a single ti.field\n",
    "        offset = 0\n",
    "        for pos_ in tmp_pos:\n",
    "            for i in range(pos_.shape[0]):\n",
    "                self.pos[offset + i] = pos_[i]\n",
    "            offset += pos_.shape[0]\n",
    "\n",
    "    @ti.kernel\n",
    "    def update_positions(self):\n",
    "        for i in ti.grouped(self.vel):\n",
    "            self.pos[i] += self.time_step * self.vel[i]\n",
    "            self.pos[i] = ti.math.clamp(self.pos[i], self.origin, self.grid_end)\n",
    "            \n",
    "    @ti.func\n",
    "    def aux_update_velocities(self, i, j, vr:ti.template()):\n",
    "        if i[0] != j:\n",
    "            r = (self.pos[i] - self.pos[j])\n",
    "            vr += cubic_kernel(r.norm(), self.h) * r.normalized()\n",
    "\n",
    "    @ti.kernel\n",
    "    def update_vr(self): # V_r part\n",
    "        for i in ti.grouped(self.vel):\n",
    "            vr = ti.Vector([0.0]*3)\n",
    "            self.fg.for_all_neighbors(i, self.pos, self.aux_update_velocities, vr, self.h)\n",
    "            if vr.norm() > self.h * 2:\n",
    "                vr = vr / vr.norm() * self.h * 2\n",
    "            self.vel[i] += vr\n",
    "\n",
    "    def update_velocity(self):\n",
    "        for i in range(self.pos.shape[0]):\n",
    "            x_np = self.pos[i].to_numpy()\n",
    "\n",
    "            phi = inter_voxels(x_np)\n",
    "            n = inter_grad(x_np)\n",
    "            v_f = -phi * n\n",
    "            self.vel[i] = v_f[0, :] * 7.0\n",
    "        self.update_vr()\n",
    "\n",
    "data = Data(verts, faces)"
   ]
  },
  {
   "cell_type": "code",
   "execution_count": 8,
   "metadata": {},
   "outputs": [
    {
     "ename": "",
     "evalue": "",
     "output_type": "error",
     "traceback": [
      "\u001b[1;31mThe Kernel crashed while executing code in the the current cell or a previous cell. Please review the code in the cell(s) to identify a possible cause of the failure. Click <a href='https://aka.ms/vscodeJupyterKernelCrash'>here</a> for more info. View Jupyter <a href='command:jupyter.viewOutput'>log</a> for further details."
     ]
    }
   ],
   "source": [
    "# the window (im sorry that you can only open the window once)\n",
    "\n",
    "vertices = ti.Vector.field(n=3, dtype=float, shape=verts.shape[0])\n",
    "vertices.from_numpy(verts)\n",
    "indices = ti.field(int, shape=faces.shape[0] * 3)\n",
    "indices.from_numpy(faces.flatten())\n",
    "\n",
    "window = ti.ui.Window(\"display\", res=(1600,1600), vsync=True)\n",
    "camera = ti.ui.Camera()\n",
    "camera.up(0.0, 1.0, 0.0)\n",
    "camera.position(-3.0, 0.5, 0.5)\n",
    "camera.lookat(0,0.5,0)\n",
    "canvas = window.get_canvas()\n",
    "scene = ti.ui.Scene()\n",
    "\n",
    "particle_sim = False\n",
    "\n",
    "iteration = 0\n",
    "while window.running:\n",
    "    if window.is_pressed(ti.ui.SPACE, ' '): particle_sim = True\n",
    "    if window.is_pressed(ti.ui.ALT): particle_sim = False\n",
    "    camera.track_user_inputs(window, movement_speed=0.03, hold_key=ti.ui.RMB)\n",
    "    scene.set_camera(camera)\n",
    "    scene.ambient_light((0.8, 0.8, 0.8))\n",
    "    scene.mesh(vertices=vertices, indices=indices ,color=(1.0,0.0,0.0), show_wireframe=True)\n",
    "    if particle_sim:\n",
    "        data.update_velocity()\n",
    "        data.update_positions()\n",
    "        data.fg.update_grid(data.pos)\n",
    "        \n",
    "    scene.particles(data.pos, radius=particle_radius*1.0)\n",
    "    canvas.scene(scene)\n",
    "\n",
    "    window.show()\n",
    "    #particle_sim = False\n",
    "    # decreasing timestep (experiment)\n",
    "    data.time_step = 0.08 / (iteration + 1) ** 0.2\n",
    "    iteration += 1\n"
   ]
  },
  {
   "cell_type": "code",
   "execution_count": null,
   "metadata": {},
   "outputs": [],
   "source": []
  }
 ],
 "metadata": {
  "kernelspec": {
   "display_name": "Python 3",
   "language": "python",
   "name": "python3"
  },
  "language_info": {
   "codemirror_mode": {
    "name": "ipython",
    "version": 3
   },
   "file_extension": ".py",
   "mimetype": "text/x-python",
   "name": "python",
   "nbconvert_exporter": "python",
   "pygments_lexer": "ipython3",
   "version": "3.10.9"
  }
 },
 "nbformat": 4,
 "nbformat_minor": 2
}
